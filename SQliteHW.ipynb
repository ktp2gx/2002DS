{
  "nbformat": 4,
  "nbformat_minor": 0,
  "metadata": {
    "colab": {
      "provenance": []
    },
    "kernelspec": {
      "name": "python3",
      "display_name": "Python 3"
    },
    "language_info": {
      "name": "python"
    }
  },
  "cells": [
    {
      "cell_type": "code",
      "execution_count": 91,
      "metadata": {
        "colab": {
          "base_uri": "https://localhost:8080/"
        },
        "id": "xZVqae51Nsvq",
        "outputId": "b58385ef-ec98-4d85-b61b-2de370e970e0"
      },
      "outputs": [
        {
          "output_type": "stream",
          "name": "stdout",
          "text": [
            "Database created and connected!\n",
            "Cursor created!\n"
          ]
        }
      ],
      "source": [
        "#1 Set up the Database:\n",
        "import sqlite3\n",
        "connection = sqlite3.connect('student_grades.db')\n",
        "print(\"Database created and connected!\")\n",
        "\n",
        "cursor = connection.cursor()\n",
        "print(\"Cursor created!\")"
      ]
    },
    {
      "source": [
        "# 2 Create Students Table\n",
        "cursor.execute('''CREATE TABLE IF NOT EXISTS Students (\n",
        "    student_id INTEGER PRIMARY KEY AUTOINCREMENT,\n",
        "    first_name TEXT NOT NULL,\n",
        "    last_name TEXT NOT NULL\n",
        ")\n",
        "''')\n",
        "\n",
        "print(\"Students table created!\")"
      ],
      "cell_type": "code",
      "metadata": {
        "colab": {
          "base_uri": "https://localhost:8080/"
        },
        "id": "fNHfSjFtVSdQ",
        "outputId": "efb657d2-df0d-4ad4-c50e-23a420343769"
      },
      "execution_count": 92,
      "outputs": [
        {
          "output_type": "stream",
          "name": "stdout",
          "text": [
            "Students table created!\n"
          ]
        }
      ]
    },
    {
      "source": [
        "#2 Create Grades Table\n",
        "cursor.execute('''CREATE TABLE IF NOT EXISTS Grades (\n",
        "    grade_id INTEGER PRIMARY KEY AUTOINCREMENT,\n",
        "    student_id INTEGER,\n",
        "    subject TEXT NOT NULL,\n",
        "    grade INTEGER,\n",
        "    FOREIGN KEY ('student_id') REFERENCES Students(student_id)\n",
        "\n",
        ")\n",
        "''')\n",
        "\n",
        "print(\"Grades table created!\")\n",
        "\n",
        "connection.commit()"
      ],
      "cell_type": "code",
      "metadata": {
        "colab": {
          "base_uri": "https://localhost:8080/"
        },
        "id": "jIaeY5yOgGp-",
        "outputId": "c09ec320-1707-4dc2-f767-0f2094946945"
      },
      "execution_count": 93,
      "outputs": [
        {
          "output_type": "stream",
          "name": "stdout",
          "text": [
            "Grades table created!\n"
          ]
        }
      ]
    },
    {
      "cell_type": "code",
      "source": [
        "#3 Insert Data Into Students Table\n",
        "student_data = [\n",
        "    ('Alice','Johnson'),\n",
        "    ('Bob', 'Smith'),\n",
        "    ('Carol', 'White'),\n",
        "    ('Divid', 'Brown'),\n",
        "    ('Eve', 'Davis')\n",
        "]\n",
        "\n",
        "cursor.executemany('INSERT INTO Students (first_name, last_name) VALUES (?, ?)', student_data)\n",
        "print(\"Students data inserted!\")\n",
        "\n",
        "connection.commit()"
      ],
      "metadata": {
        "colab": {
          "base_uri": "https://localhost:8080/"
        },
        "id": "7RiZWauibeOz",
        "outputId": "fc9f2651-e7b1-462c-ad90-94ed68cc93c7"
      },
      "execution_count": 94,
      "outputs": [
        {
          "output_type": "stream",
          "name": "stdout",
          "text": [
            "Students data inserted!\n"
          ]
        }
      ]
    },
    {
      "cell_type": "code",
      "source": [
        "#3 Insert Data Into Grades Table\n",
        "grades_data = [\n",
        "    (1, 'Math', 95),\n",
        "    (1, 'English', 88),\n",
        "    (1, 'History', 90),\n",
        "    (2, 'Math', 82),\n",
        "    (2, 'English', 76),\n",
        "    (2, 'History', 85),\n",
        "    (3, 'Math', 87),\n",
        "    (3, 'English', 66),\n",
        "    (3, 'History', 90),\n",
        "    (4, 'Math', 54),\n",
        "    (4, 'English', 99),\n",
        "    (4, 'History', 73),\n",
        "    (5, 'Math', 98),\n",
        "    (5, 'English', 100),\n",
        "    (5, 'History', 87)\n",
        "\n",
        "]\n",
        "\n",
        "cursor.executemany('INSERT INTO Grades(student_id, subject, grade) VALUES (?, ?, ?)', grades_data)\n",
        "print(\"grades data inserted!\")\n",
        "\n",
        "connection.commit()"
      ],
      "metadata": {
        "colab": {
          "base_uri": "https://localhost:8080/"
        },
        "id": "q78T9QmScoBu",
        "outputId": "e1acc5e7-ff5a-4ce3-8543-7f38ff65642b"
      },
      "execution_count": 95,
      "outputs": [
        {
          "output_type": "stream",
          "name": "stdout",
          "text": [
            "grades data inserted!\n"
          ]
        }
      ]
    },
    {
      "cell_type": "code",
      "source": [
        "#4.1 Retrieve all Students Names and Their Grades\n",
        "cursor.execute('''\n",
        "SELECT Students.first_name, Students.last_name, Grades.subject, Grades.grade\n",
        "FROM Students\n",
        "JOIN Grades ON Students.student_id = grades.student_id\n",
        "''')\n",
        "\n",
        "students_grades = cursor.fetchall()\n",
        "for student in students_grades:\n",
        "    print(student)"
      ],
      "metadata": {
        "id": "yfjhNswhJt06",
        "colab": {
          "base_uri": "https://localhost:8080/"
        },
        "outputId": "057cc4e9-2191-4be5-f352-f9b7dbe17e50"
      },
      "execution_count": 96,
      "outputs": [
        {
          "output_type": "stream",
          "name": "stdout",
          "text": [
            "('Alice', 'Johnson', 'Math', 95)\n",
            "('Alice', 'Johnson', 'English', 88)\n",
            "('Alice', 'Johnson', 'History', 90)\n",
            "('Bob', 'Smith', 'Math', 82)\n",
            "('Bob', 'Smith', 'English', 76)\n",
            "('Bob', 'Smith', 'History', 85)\n",
            "('Alice', 'Johnson', 'Math', 95)\n",
            "('Alice', 'Johnson', 'English', 88)\n",
            "('Alice', 'Johnson', 'History', 90)\n",
            "('Bob', 'Smith', 'Math', 82)\n",
            "('Bob', 'Smith', 'English', 76)\n",
            "('Bob', 'Smith', 'History', 85)\n",
            "('Carol', 'White', 'Math', 87)\n",
            "('Carol', 'White', 'English', 66)\n",
            "('Carol', 'White', 'History', 90)\n",
            "('Divid', 'Brown', 'Math', 54)\n",
            "('Divid', 'Brown', 'English', 99)\n",
            "('Divid', 'Brown', 'History', 73)\n",
            "('Eve', 'Davis', 'Math', 98)\n",
            "('Eve', 'Davis', 'English', 100)\n",
            "('Eve', 'Davis', 'History', 87)\n"
          ]
        }
      ]
    },
    {
      "cell_type": "code",
      "source": [
        "#4.2 Find the average grade for each student.\n",
        "cursor.execute('''\n",
        "SELECT Students.first_name, AVG(Grades.grade)\n",
        "FROM Students\n",
        "JOIN Grades ON Students.student_id = Grades.student_id\n",
        "GROUP BY Students.student_id\n",
        "''')\n",
        "\n",
        "avg_grades = cursor.fetchall()\n",
        "for student in avg_grades:\n",
        "    print(student)"
      ],
      "metadata": {
        "colab": {
          "base_uri": "https://localhost:8080/"
        },
        "id": "UL5NJH55J44_",
        "outputId": "282c0cf8-86ea-4e94-f3d6-485c7a5a765c"
      },
      "execution_count": 97,
      "outputs": [
        {
          "output_type": "stream",
          "name": "stdout",
          "text": [
            "('Alice', 91.0)\n",
            "('Bob', 81.0)\n",
            "('Carol', 81.0)\n",
            "('Divid', 75.33333333333333)\n",
            "('Eve', 95.0)\n"
          ]
        }
      ]
    },
    {
      "cell_type": "code",
      "source": [
        "#4.3 Find the student with the highest average grade\n",
        "cursor.execute('''\n",
        "SELECT Students.first_name, AVG(Grades.grade) AS avg_grade\n",
        "FROM Students\n",
        "JOIN Grades ON Students.student_id = Grades.student_id\n",
        "GROUP BY Students.student_id\n",
        "ORDER BY avg_grade DESC\n",
        "LIMIT 1\n",
        "''')\n",
        "\n",
        "top_student = cursor.fetchone()\n",
        "print(top_student)"
      ],
      "metadata": {
        "colab": {
          "base_uri": "https://localhost:8080/"
        },
        "id": "TBE9M21aJ73u",
        "outputId": "26d6f9bf-ae21-42af-80a3-5eba800d5ae9"
      },
      "execution_count": 98,
      "outputs": [
        {
          "output_type": "stream",
          "name": "stdout",
          "text": [
            "('Eve', 95.0)\n"
          ]
        }
      ]
    },
    {
      "cell_type": "code",
      "source": [
        "#4.4 Find the average grade for the Math subject\n",
        "cursor.execute('''\n",
        "SELECT AVG(Grades.grade)\n",
        "FROM Grades\n",
        "WHERE Grades.subject = 'Math'\n",
        "''')\n",
        "\n",
        "avg_math_grade = cursor.fetchone()\n",
        "print(avg_math_grade)"
      ],
      "metadata": {
        "colab": {
          "base_uri": "https://localhost:8080/"
        },
        "id": "3Qs3sCIsJ-kk",
        "outputId": "d3517c15-d2bb-45a4-862c-bb4313df18bb"
      },
      "execution_count": 99,
      "outputs": [
        {
          "output_type": "stream",
          "name": "stdout",
          "text": [
            "(85.55555555555556,)\n"
          ]
        }
      ]
    },
    {
      "cell_type": "code",
      "source": [
        "#4.5 List all students who scored above 90 in any subject.\n",
        "cursor.execute('''\n",
        "SELECT Students.first_name, Grades.subject, Grades.grade\n",
        "FROM Students\n",
        "JOIN Grades ON Students.student_id = Grades.student_id\n",
        "WHERE Grades.grade > 90\n",
        "''')\n",
        "\n",
        "above90 = cursor.fetchall()\n",
        "for student in above90:\n",
        "    print(student)"
      ],
      "metadata": {
        "colab": {
          "base_uri": "https://localhost:8080/"
        },
        "id": "w8TLmS4BKBOo",
        "outputId": "51ab251d-0de2-4519-9c23-f1ead2eefb2a"
      },
      "execution_count": 100,
      "outputs": [
        {
          "output_type": "stream",
          "name": "stdout",
          "text": [
            "('Alice', 'Math', 95)\n",
            "('Alice', 'Math', 95)\n",
            "('Divid', 'English', 99)\n",
            "('Eve', 'Math', 98)\n",
            "('Eve', 'English', 100)\n"
          ]
        }
      ]
    },
    {
      "cell_type": "code",
      "source": [
        "#5.1 Use Pandas to load the data from the students and grades tables into DataFrames.\n",
        "#5.2 Use JOIN queries to combine the data from both tables into a single DataFrame that includes each student's name, subject, and grade\n",
        "connection = sqlite3.connect('student_grades.db')\n",
        "join = ('''\n",
        "SELECT Students.first_name, Students.last_name, Grades.subject, Grades.grade\n",
        "FROM Students\n",
        "JOIN Grades ON Students.student_id = Grades.student_id\n",
        "''')\n",
        "import pandas as pd\n",
        "df = pd.read_sql_query(join, connection)\n",
        "print(df)\n",
        "\n"
      ],
      "metadata": {
        "colab": {
          "base_uri": "https://localhost:8080/"
        },
        "id": "1rQn6TuAQ7DC",
        "outputId": "87712f15-1e28-4050-ff44-1132e242444a"
      },
      "execution_count": 101,
      "outputs": [
        {
          "output_type": "stream",
          "name": "stdout",
          "text": [
            "   first_name last_name  subject  grade\n",
            "0       Alice   Johnson     Math     95\n",
            "1       Alice   Johnson  English     88\n",
            "2       Alice   Johnson  History     90\n",
            "3         Bob     Smith     Math     82\n",
            "4         Bob     Smith  English     76\n",
            "5         Bob     Smith  History     85\n",
            "6       Alice   Johnson     Math     95\n",
            "7       Alice   Johnson  English     88\n",
            "8       Alice   Johnson  History     90\n",
            "9         Bob     Smith     Math     82\n",
            "10        Bob     Smith  English     76\n",
            "11        Bob     Smith  History     85\n",
            "12      Carol     White     Math     87\n",
            "13      Carol     White  English     66\n",
            "14      Carol     White  History     90\n",
            "15      Divid     Brown     Math     54\n",
            "16      Divid     Brown  English     99\n",
            "17      Divid     Brown  History     73\n",
            "18        Eve     Davis     Math     98\n",
            "19        Eve     Davis  English    100\n",
            "20        Eve     Davis  History     87\n"
          ]
        }
      ]
    },
    {
      "cell_type": "code",
      "source": [
        "#5.3 Plot the average grades for each student\n",
        "import matplotlib.pyplot as plt\n",
        "\n",
        "student_avg_grades = df.groupby('first_name')['grade'].mean()\n",
        "plt.figure(figsize=(8, 6))\n",
        "student_avg_grades.plot(kind='bar', color='lightgreen')\n",
        "plt.xlabel('Student')\n",
        "plt.ylabel('Average Grade')\n",
        "plt.title('Average Grades of Students')\n",
        "plt.show()"
      ],
      "metadata": {
        "colab": {
          "base_uri": "https://localhost:8080/",
          "height": 586
        },
        "id": "d-So-jk3PNLQ",
        "outputId": "fb96b16f-fc86-4d2f-baea-c26b5c2e3867"
      },
      "execution_count": 103,
      "outputs": [
        {
          "output_type": "display_data",
          "data": {
            "text/plain": [
              "<Figure size 800x600 with 1 Axes>"
            ],
            "image/png": "[encoded data removed]"
          },
          "metadata": {}
        }
      ]
    },
    {
      "cell_type": "code",
      "source": [
        "#5.3 Create a bar chart showing the average grade for each subject\n",
        "import matplotlib.pyplot as plt\n",
        "\n",
        "subject_avg_grades = df.groupby('subject')['grade'].mean()\n",
        "plt.figure(figsize=(8, 6))\n",
        "subject_avg_grades.plot(kind='bar', color='lightgreen')\n",
        "plt.xlabel('subject')\n",
        "plt.ylabel('Average Grade')\n",
        "plt.title('Average Grade of Each Subject')\n",
        "plt.show()"
      ],
      "metadata": {
        "colab": {
          "base_uri": "https://localhost:8080/",
          "height": 600
        },
        "id": "QzarFY81PVZy",
        "outputId": "b3da7a80-d76b-45ce-9ad2-3fa2d623333a"
      },
      "execution_count": 105,
      "outputs": [
        {
          "output_type": "display_data",
          "data": {
            "text/plain": [
              "<Figure size 800x600 with 1 Axes>"
            ],
            "image/png": "[encoded data removed]"
          },
          "metadata": {}
        }
      ]
    }
  ]
}