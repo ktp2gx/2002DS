{
  "nbformat": 4,
  "nbformat_minor": 0,
  "metadata": {
    "colab": {
      "provenance": [],
      "authorship_tag": "ABX9TyOPE/SyKlGRTxfpkoQehcGE",
      "include_colab_link": true
    },
    "kernelspec": {
      "name": "python3",
      "display_name": "Python 3"
    },
    "language_info": {
      "name": "python"
    }
  },
  "cells": [
    {
      "cell_type": "markdown",
      "metadata": {
        "id": "view-in-github",
        "colab_type": "text"
      },
      "source": [
        "<a href=\"https://colab.research.google.com/github/ktp2gx/2002DS/blob/main/API_HW.ipynb\" target=\"_parent\"><img src=\"https://colab.research.google.com/assets/colab-badge.svg\" alt=\"Open In Colab\"/></a>"
      ]
    },
    {
      "cell_type": "code",
      "source": [
        "import requests\n",
        "import json\n",
        "import pandas as pd"
      ],
      "metadata": {
        "id": "QrHueWttI7E2"
      },
      "execution_count": null,
      "outputs": []
    },
    {
      "cell_type": "code",
      "source": [
        "stock = input().upper()"
      ],
      "metadata": {
        "colab": {
          "base_uri": "https://localhost:8080/"
        },
        "id": "KMr7_mE2I-1g",
        "outputId": "60da0515-acdc-4a97-b530-5ed4d1dfc65c"
      },
      "execution_count": null,
      "outputs": [
        {
          "name": "stdout",
          "output_type": "stream",
          "text": [
            "aapl\n"
          ]
        }
      ]
    },
    {
      "cell_type": "code",
      "execution_count": null,
      "metadata": {
        "colab": {
          "base_uri": "https://localhost:8080/"
        },
        "id": "L2n4fzFcyv2Q",
        "outputId": "b147a6f1-890a-4281-efea-b8e959490b18"
      },
      "outputs": [
        {
          "output_type": "stream",
          "name": "stdout",
          "text": [
            "API request successful!\n",
            "{\"quoteResponse\":{\"result\":[{\"language\":\"en-US\",\"region\":\"US\",\"quoteType\":\"EQUITY\",\"typeDisp\":\"Equity\",\"quoteSourceName\":\"Nasdaq Real Time Price\",\"triggerable\":true,\"customPriceAlertConfidence\":\"HIGH\",\"currency\":\"USD\",\"exchange\":\"NMS\",\"shortName\":\"Apple Inc.\",\"longName\":\"Apple Inc.\",\"messageBoardId\":\"finmb_24937\",\"exchangeTimezoneName\":\"America/New_York\",\"exchangeTimezoneShortName\":\"EDT\",\"gmtOffSetMilliseconds\":-14400000,\"market\":\"us_market\",\"esgPopulated\":false,\"regularMarketChangePercent\":0.09010277,\"regularMarketPrice\":227.725,\"epsTrailingTwelveMonths\":6.56,\"epsForward\":7.48,\"epsCurrentYear\":6.7,\"priceEpsCurrentYear\":33.988808,\"sharesOutstanding\":15204100096,\"bookValue\":4.382,\"fiftyDayAverage\":222.0918,\"fiftyDayAverageChange\":5.633209,\"fiftyDayAverageChangePercent\":0.025364328,\"twoHundredDayAverage\":197.18105,\"twoHundredDayAverageChange\":30.54396,\"twoHundredDayAverageChangePercent\":0.15490313,\"marketCap\":3462353911808,\"forwardPE\":30.444519,\"priceToBook\":51.96828,\"sourceInterval\":15,\"exchangeDataDelayedBy\":0,\"averageAnalystRating\":\"2.0 - Buy\",\"tradeable\":false,\"cryptoTradeable\":false,\"hasPrePostMarketData\":true,\"firstTradeDateMilliseconds\":345479400000,\"priceHint\":2,\"postMarketChangePercent\":-0.127307,\"postMarketTime\":1727481596,\"marketState\":\"CLOSED\",\"postMarketPrice\":227.5,\"postMarketChange\":-0.289993,\"regularMarketChange\":0.20500183,\"regularMarketTime\":1727467204,\"regularMarketDayHigh\":229.52,\"regularMarketDayRange\":\"227.3 - 229.52\",\"regularMarketDayLow\":227.3,\"regularMarketVolume\":34025967,\"regularMarketPreviousClose\":227.52,\"bid\":227.59,\"ask\":240.09,\"bidSize\":5,\"askSize\":1,\"fullExchangeName\":\"NasdaqGS\",\"financialCurrency\":\"USD\",\"regularMarketOpen\":228.43,\"averageDailyVolume3Month\":54814806,\"averageDailyVolume10Day\":76087390,\"fiftyTwoWeekLowChange\":63.645004,\"fiftyTwoWeekLowChangePercent\":0.38789007,\"fiftyTwoWeekRange\":\"164.08 - 237.23\",\"fiftyTwoWeekHighChange\":-9.50499,\"fiftyTwoWeekHighChangePercent\":-0.04006656,\"fiftyTwoWeekLow\":164.08,\"fiftyTwoWeekHigh\":237.23,\"fiftyTwoWeekChangePercent\":31.102158,\"dividendDate\":1723680000,\"earningsTimestamp\":1722544200,\"earningsTimestampStart\":1730372340,\"earningsTimestampEnd\":1730721600,\"earningsCallTimestampStart\":1722546000,\"earningsCallTimestampEnd\":1722546000,\"isEarningsDateEstimate\":true,\"trailingAnnualDividendRate\":0.97,\"trailingPE\":34.714176,\"dividendRate\":1.0,\"trailingAnnualDividendYield\":0.0042633615,\"dividendYield\":0.44,\"displayName\":\"Apple\",\"symbol\":\"AAPL\"}],\"error\":null}}\n",
            "API request successful!\n",
            "{\"quoteSummary\":{\"result\":[{\"financialData\":{\"maxAge\":86400,\"currentPrice\":{\"raw\":227.725,\"fmt\":\"227.73\"},\"targetHighPrice\":{\"raw\":300.0,\"fmt\":\"300.00\"},\"targetLowPrice\":{\"raw\":183.86,\"fmt\":\"183.86\"},\"targetMeanPrice\":{\"raw\":240.58,\"fmt\":\"240.58\"},\"targetMedianPrice\":{\"raw\":243.0,\"fmt\":\"243.00\"},\"recommendationMean\":{\"raw\":2.0,\"fmt\":\"2.00\"},\"recommendationKey\":\"buy\",\"numberOfAnalystOpinions\":{\"raw\":40,\"fmt\":\"40\",\"longFmt\":\"40\"},\"totalCash\":{\"raw\":61801000960,\"fmt\":\"61.8B\",\"longFmt\":\"61,801,000,960\"},\"totalCashPerShare\":{\"raw\":4.065,\"fmt\":\"4.07\"},\"ebitda\":{\"raw\":131781001216,\"fmt\":\"131.78B\",\"longFmt\":\"131,781,001,216\"},\"totalDebt\":{\"raw\":101304000512,\"fmt\":\"101.3B\",\"longFmt\":\"101,304,000,512\"},\"quickRatio\":{\"raw\":0.798,\"fmt\":\"0.80\"},\"currentRatio\":{\"raw\":0.953,\"fmt\":\"0.95\"},\"totalRevenue\":{\"raw\":385603010560,\"fmt\":\"385.6B\",\"longFmt\":\"385,603,010,560\"},\"debtToEquity\":{\"raw\":151.862,\"fmt\":\"151.86%\"},\"revenuePerShare\":{\"raw\":24.957,\"fmt\":\"24.96\"},\"returnOnAssets\":{\"raw\":0.22612,\"fmt\":\"22.61%\"},\"returnOnEquity\":{\"raw\":1.60583,\"fmt\":\"160.58%\"},\"grossProfits\":{},\"freeCashflow\":{\"raw\":86158123008,\"fmt\":\"86.16B\",\"longFmt\":\"86,158,123,008\"},\"operatingCashflow\":{\"raw\":113040998400,\"fmt\":\"113.04B\",\"longFmt\":\"113,040,998,400\"},\"earningsGrowth\":{\"raw\":0.111,\"fmt\":\"11.10%\"},\"revenueGrowth\":{\"raw\":0.049,\"fmt\":\"4.90%\"},\"grossMargins\":{\"raw\":0.45962003,\"fmt\":\"45.96%\"},\"ebitdaMargins\":{\"raw\":0.34175,\"fmt\":\"34.17%\"},\"operatingMargins\":{\"raw\":0.29556,\"fmt\":\"29.56%\"},\"profitMargins\":{\"raw\":0.26441,\"fmt\":\"26.44%\"},\"financialCurrency\":\"USD\"}}],\"error\":null}}\n",
            "API request successful!\n",
            "{\"finance\":{\"result\":[{\"count\":20,\"quotes\":[{\"symbol\":\"AMSC\"},{\"symbol\":\"PWR\"},{\"symbol\":\"SNAP\"},{\"symbol\":\"SOL-USD\"},{\"symbol\":\"GC=F\"},{\"symbol\":\"NQ=F\"},{\"symbol\":\"VRT\"},{\"symbol\":\"BBD\"},{\"symbol\":\"EME\"},{\"symbol\":\"CL=F\"},{\"symbol\":\"^N225\"},{\"symbol\":\"ES=F\"},{\"symbol\":\"9988.HK\"},{\"symbol\":\"^IXIC\"},{\"symbol\":\"ROKU\"},{\"symbol\":\"JPY=X\"},{\"symbol\":\"BTC-USD\"},{\"symbol\":\"BTC=F\"},{\"symbol\":\"SI=F\"},{\"symbol\":\"PATH\"}],\"jobTimestamp\":1727648593880,\"startInterval\":202409292100}],\"error\":null}}\n"
          ]
        }
      ],
      "source": [
        "\n",
        "apikey = \"NhfFK5BjTL6T1KGCwNAq35GRrVupHoys4SZ61PHb\"\n",
        "url_1 = \"https://yfapi.net/v6/finance/quote\"\n",
        "\n",
        "querystring_1 = {\"symbols\":stock}\n",
        "\n",
        "headers = {\n",
        "    \"x-api-key\": apikey\n",
        "}\n",
        "\n",
        "response = requests.request(\"GET\", url_1, headers=headers, params=querystring_1)\n",
        "\n",
        "if response.status_code == 200:\n",
        "    print(\"API request successful!\")\n",
        "else:\n",
        "    print(f\"Failed to retrieve data: {response.status_code}\")\n",
        "\n",
        "print(response.text)\n",
        "\n",
        "url_2 = f\"https://yfapi.net/v11/finance/quoteSummary/{stock}?lang=en&region=US&modules=financialData\"\n",
        "querystring_2 = {\"symbols\":stock}\n",
        "\n",
        "response_2 = requests.request(\"GET\", url_2, headers=headers, params=querystring_2)\n",
        "\n",
        "if response_2.status_code == 200:\n",
        "    print(\"API request successful!\")\n",
        "else:\n",
        "    print(f\"Failed to retrieve data: {response_2.status_code}\")\n",
        "\n",
        "print(response_2.text)\n",
        "\n",
        "url_3 = \"https://yfapi.net/v1/finance/trending/US\"\n",
        "response_3 = requests.request(\"GET\", url_3, headers=headers)\n",
        "data3 = response_3.json()\n",
        "trending_stocks = data3['finance']['result'][0]['quotes']\n",
        "\n",
        "if response_3.status_code == 200:\n",
        "    print(\"API request successful!\")\n",
        "else:\n",
        "    print(f\"Failed to retrieve data: {response_3.status_code}\")\n",
        "\n",
        "print(response_3.text)\n"
      ]
    },
    {
      "source": [
        "stock_json = response.json()\n",
        "for i in stock_json['quoteResponse']['result']:\n",
        "    print(f\"Ticker Name: {i['symbol']}\")\n",
        "    print(f\"Full Name: {i['longName']}\")\n",
        "    print(f\"52-Week Low: {i['fiftyTwoWeekLow']}\")\n",
        "    print(f\"52-Week High: {i['fiftyTwoWeekHigh']}\")\n",
        "stock_json_2 = response_2.json()\n",
        "for i in (stock_json_2['quoteSummary']['result']):\n",
        "  print(f\"Target Mean Price: {i['financialData']['targetMeanPrice']['raw']}\")\n",
        "  print(f\"Current Market Price: {i['financialData']['currentPrice']['raw']}\")\n",
        "print(\"Top 5 Trending Stocks in US:\")\n",
        "for i in trending_stocks[:5]:\n",
        "  print(i[\"symbol\"])"
      ],
      "cell_type": "code",
      "metadata": {
        "colab": {
          "base_uri": "https://localhost:8080/"
        },
        "id": "33JiRouwRPAa",
        "outputId": "6a850028-b126-41f3-b588-1370222a084c"
      },
      "execution_count": null,
      "outputs": [
        {
          "output_type": "stream",
          "name": "stdout",
          "text": [
            "Ticker Name: AAPL\n",
            "Full Name: Apple Inc.\n",
            "52-Week Low: 164.08\n",
            "52-Week High: 237.23\n",
            "Target Mean Price: 240.58\n",
            "Current Market Price: 227.725\n",
            "Top 5 Trending Stocks in US:\n",
            "AMSC\n",
            "PWR\n",
            "SNAP\n",
            "SOL-USD\n",
            "GC=F\n"
          ]
        }
      ]
    },
    {
      "cell_type": "code",
      "source": [
        "stock_data = []\n",
        "for i in (stock_json['quoteResponse']['result']):\n",
        "    stock_data.append({\n",
        "        \"Symbol\": i['symbol'],\n",
        "        \"Long Name\": i['longName'],\n",
        "        \"Regular Market Price\": i['regularMarketPrice'],\n",
        "        \"52-Week Low\": i['fiftyTwoWeekLow'],\n",
        "        \"52-Week High\": i['fiftyTwoWeekHigh']\n",
        "    })\n",
        "for i in (stock_json_2['quoteSummary']['result']):\n",
        "    target_mean_price = i['financialData']['targetMeanPrice']['raw']\n",
        "    stock_data[0][\"Target Mean Price\"] = target_mean_price\n",
        "trending_data = []\n",
        "for i in trending_stocks[:5]:\n",
        "    trending_data.append({\"Trending Symbol\": i[\"symbol\"]})\n",
        "print(stock_data)\n",
        "print(trending_data)"
      ],
      "metadata": {
        "colab": {
          "base_uri": "https://localhost:8080/"
        },
        "id": "Czq5z99pT4yt",
        "outputId": "3297512a-c16f-42cc-f002-1d38c13a81be"
      },
      "execution_count": null,
      "outputs": [
        {
          "output_type": "stream",
          "name": "stdout",
          "text": [
            "[{'Symbol': 'AAPL', 'Long Name': 'Apple Inc.', 'Regular Market Price': 227.725, '52-Week Low': 164.08, '52-Week High': 237.23, 'Target Mean Price': 240.58}]\n",
            "[{'Trending Symbol': 'AMSC'}, {'Trending Symbol': 'PWR'}, {'Trending Symbol': 'SNAP'}, {'Trending Symbol': 'SOL-USD'}, {'Trending Symbol': 'GC=F'}]\n"
          ]
        }
      ]
    },
    {
      "cell_type": "code",
      "source": [
        "df_stock = pd.DataFrame(stock_data)\n",
        "df_trending = pd.DataFrame(trending_data)\n",
        "print(df_stock)\n",
        "print(df_trending)"
      ],
      "metadata": {
        "colab": {
          "base_uri": "https://localhost:8080/"
        },
        "id": "47q19kRSS4TB",
        "outputId": "b322fcef-a835-419e-c681-8797c10752c9"
      },
      "execution_count": null,
      "outputs": [
        {
          "output_type": "stream",
          "name": "stdout",
          "text": [
            "  Symbol   Long Name  Regular Market Price  52-Week Low  52-Week High  \\\n",
            "0   AAPL  Apple Inc.               227.725       164.08        237.23   \n",
            "\n",
            "   Target Mean Price  \n",
            "0             240.58  \n",
            "  Trending Symbol\n",
            "0            AMSC\n",
            "1             PWR\n",
            "2            SNAP\n",
            "3         SOL-USD\n",
            "4            GC=F\n"
          ]
        }
      ]
    },
    {
      "cell_type": "code",
      "source": [
        "df_stock.to_csv(f\"{stock}_stock_data.csv\", index=False)\n",
        "df_trending.to_csv(\"trending_stocks.csv\", index=False)"
      ],
      "metadata": {
        "id": "eOwT3DXuUaHD"
      },
      "execution_count": null,
      "outputs": []
    }
  ]
}